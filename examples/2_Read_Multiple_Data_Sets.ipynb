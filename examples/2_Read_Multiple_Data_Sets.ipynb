{
 "cells": [
  {
   "cell_type": "markdown",
   "metadata": {},
   "source": [
    "<h1 align=\"center\"> Read Multiple Data Sets in a Single DataFrame </h1>\n",
    "\n",
    "### Import Libraries"
   ]
  },
  {
   "cell_type": "code",
   "execution_count": 1,
   "metadata": {},
   "outputs": [
    {
     "data": {
      "text/html": [
       "<style>.container { width:100% !important; }</style>"
      ],
      "text/plain": [
       "<IPython.core.display.HTML object>"
      ]
     },
     "metadata": {},
     "output_type": "display_data"
    }
   ],
   "source": [
    "import pandas as pd\n",
    "import numpy as np\n",
    "from matplotlib import pyplot as plt\n",
    "from IPython.display import display, HTML\n",
    "# Set the format for floating point numbers to show no decimal places\n",
    "pd.set_option('display.float_format', lambda x: '%.0f' % x)\n",
    "# To display plots inline within the notebook\n",
    "%matplotlib inline\n",
    "# Set the notebook width to 100%\n",
    "display(HTML(\"<style>.container { width:100% !important; }</style>\"))"
   ]
  },
  {
   "cell_type": "markdown",
   "metadata": {},
   "source": [
    "### Reading Submission Data Sets for All Quarters of 2022 from [Financial Statement Data Sets](https://www.sec.gov/dera/data/financial-statement-data-sets)"
   ]
  },
  {
   "cell_type": "code",
   "execution_count": 2,
   "metadata": {},
   "outputs": [
    {
     "name": "stdout",
     "output_type": "stream",
     "text": [
      "Sum of Filings: 97813\n"
     ]
    }
   ],
   "source": [
    "# Setting low_memory parameter to False to prevent mixed type inference and default_na parameter to False so that empty strings are not parsed as NaN.\n",
    "filingsQ1 = pd.read_csv('data/2022q1/sub.txt', sep='\\t', low_memory=False, keep_default_na=False)\n",
    "filingsQ2 = pd.read_csv('data/2022q2/sub.txt', sep='\\t', low_memory=False, keep_default_na=False)\n",
    "filingsQ3 = pd.read_csv('data/2022q3/sub.txt', sep='\\t', low_memory=False, keep_default_na=False)\n",
    "filingsQ4 = pd.read_csv('data/2022q4/sub.txt', sep='\\t', low_memory=False, keep_default_na=False)\n",
    "print('Sum of Filings:', str(len(filingsQ1) + len(filingsQ2) + len(filingsQ3) + len(filingsQ4)))"
   ]
  },
  {
   "cell_type": "markdown",
   "metadata": {},
   "source": [
    "### Using Concat Function to Create a Single Filings DataFrame for All 4 Quarters"
   ]
  },
  {
   "cell_type": "code",
   "execution_count": 3,
   "metadata": {},
   "outputs": [
    {
     "name": "stdout",
     "output_type": "stream",
     "text": [
      "Total num of Filings in filings DataFrame: 97813\n"
     ]
    }
   ],
   "source": [
    "# Setting ignore_index to True so that the rows in concatenated data frame will be indexed from 0 to n-1\n",
    "filings = pd.concat([filingsQ1, filingsQ2, filingsQ3, filingsQ4], ignore_index=True)\n",
    "print('Total num of Filings in filings DataFrame:', str(len(filings)))"
   ]
  },
  {
   "cell_type": "markdown",
   "metadata": {},
   "source": [
    "### Look at the Contents of the First Row of filings Data Frame"
   ]
  },
  {
   "cell_type": "code",
   "execution_count": 4,
   "metadata": {},
   "outputs": [
    {
     "data": {
      "text/html": [
       "<div>\n",
       "<style scoped>\n",
       "    .dataframe tbody tr th:only-of-type {\n",
       "        vertical-align: middle;\n",
       "    }\n",
       "\n",
       "    .dataframe tbody tr th {\n",
       "        vertical-align: top;\n",
       "    }\n",
       "\n",
       "    .dataframe thead th {\n",
       "        text-align: right;\n",
       "    }\n",
       "</style>\n",
       "<table border=\"1\" class=\"dataframe\">\n",
       "  <thead>\n",
       "    <tr style=\"text-align: right;\">\n",
       "      <th></th>\n",
       "      <th>adsh</th>\n",
       "      <th>cik</th>\n",
       "      <th>name</th>\n",
       "      <th>sic</th>\n",
       "      <th>countryba</th>\n",
       "      <th>stprba</th>\n",
       "      <th>cityba</th>\n",
       "      <th>zipba</th>\n",
       "      <th>bas1</th>\n",
       "      <th>bas2</th>\n",
       "      <th>...</th>\n",
       "      <th>period</th>\n",
       "      <th>fy</th>\n",
       "      <th>fp</th>\n",
       "      <th>filed</th>\n",
       "      <th>accepted</th>\n",
       "      <th>prevrpt</th>\n",
       "      <th>detail</th>\n",
       "      <th>instance</th>\n",
       "      <th>nciks</th>\n",
       "      <th>aciks</th>\n",
       "    </tr>\n",
       "  </thead>\n",
       "  <tbody>\n",
       "    <tr>\n",
       "      <th>0</th>\n",
       "      <td>0000016099-22-000014</td>\n",
       "      <td>16099</td>\n",
       "      <td>LUBYS INC</td>\n",
       "      <td>5812</td>\n",
       "      <td>US</td>\n",
       "      <td>TX</td>\n",
       "      <td>HOUSTON</td>\n",
       "      <td>77040</td>\n",
       "      <td>13111 NORTHWEST FREEWAY</td>\n",
       "      <td>SUITE 600</td>\n",
       "      <td>...</td>\n",
       "      <td>20220331</td>\n",
       "      <td></td>\n",
       "      <td></td>\n",
       "      <td>20220331</td>\n",
       "      <td>2022-03-31 16:22:00.0</td>\n",
       "      <td>0</td>\n",
       "      <td>0</td>\n",
       "      <td>lub-20220327_htm.xml</td>\n",
       "      <td>1</td>\n",
       "      <td></td>\n",
       "    </tr>\n",
       "  </tbody>\n",
       "</table>\n",
       "<p>1 rows × 36 columns</p>\n",
       "</div>"
      ],
      "text/plain": [
       "                   adsh    cik       name   sic countryba stprba   cityba  \\\n",
       "0  0000016099-22-000014  16099  LUBYS INC  5812        US     TX  HOUSTON   \n",
       "\n",
       "   zipba                     bas1       bas2  ...    period fy fp     filed  \\\n",
       "0  77040  13111 NORTHWEST FREEWAY  SUITE 600  ...  20220331        20220331   \n",
       "\n",
       "                accepted prevrpt detail              instance nciks aciks  \n",
       "0  2022-03-31 16:22:00.0       0      0  lub-20220327_htm.xml     1        \n",
       "\n",
       "[1 rows x 36 columns]"
      ]
     },
     "execution_count": 4,
     "metadata": {},
     "output_type": "execute_result"
    }
   ],
   "source": [
    "filings[0:1]"
   ]
  },
  {
   "cell_type": "markdown",
   "metadata": {},
   "source": [
    "### Construct a New Column Month using Filed Date"
   ]
  },
  {
   "cell_type": "code",
   "execution_count": 5,
   "metadata": {},
   "outputs": [],
   "source": [
    "# Integer division of filed date (YYYYMMDD) by 100 to construct year and month (YYYYMM)\n",
    "filings['Month'] = filings['filed'].apply(lambda x: x//100)"
   ]
  },
  {
   "cell_type": "markdown",
   "metadata": {},
   "source": [
    "### Look at the Contents of the First Row of filings Data Frame. Notice the New Column Month in YYYYMM Format"
   ]
  },
  {
   "cell_type": "code",
   "execution_count": 6,
   "metadata": {},
   "outputs": [
    {
     "data": {
      "text/html": [
       "<div>\n",
       "<style scoped>\n",
       "    .dataframe tbody tr th:only-of-type {\n",
       "        vertical-align: middle;\n",
       "    }\n",
       "\n",
       "    .dataframe tbody tr th {\n",
       "        vertical-align: top;\n",
       "    }\n",
       "\n",
       "    .dataframe thead th {\n",
       "        text-align: right;\n",
       "    }\n",
       "</style>\n",
       "<table border=\"1\" class=\"dataframe\">\n",
       "  <thead>\n",
       "    <tr style=\"text-align: right;\">\n",
       "      <th></th>\n",
       "      <th>adsh</th>\n",
       "      <th>cik</th>\n",
       "      <th>name</th>\n",
       "      <th>sic</th>\n",
       "      <th>countryba</th>\n",
       "      <th>stprba</th>\n",
       "      <th>cityba</th>\n",
       "      <th>zipba</th>\n",
       "      <th>bas1</th>\n",
       "      <th>bas2</th>\n",
       "      <th>...</th>\n",
       "      <th>fy</th>\n",
       "      <th>fp</th>\n",
       "      <th>filed</th>\n",
       "      <th>accepted</th>\n",
       "      <th>prevrpt</th>\n",
       "      <th>detail</th>\n",
       "      <th>instance</th>\n",
       "      <th>nciks</th>\n",
       "      <th>aciks</th>\n",
       "      <th>Month</th>\n",
       "    </tr>\n",
       "  </thead>\n",
       "  <tbody>\n",
       "    <tr>\n",
       "      <th>0</th>\n",
       "      <td>0000016099-22-000014</td>\n",
       "      <td>16099</td>\n",
       "      <td>LUBYS INC</td>\n",
       "      <td>5812</td>\n",
       "      <td>US</td>\n",
       "      <td>TX</td>\n",
       "      <td>HOUSTON</td>\n",
       "      <td>77040</td>\n",
       "      <td>13111 NORTHWEST FREEWAY</td>\n",
       "      <td>SUITE 600</td>\n",
       "      <td>...</td>\n",
       "      <td></td>\n",
       "      <td></td>\n",
       "      <td>20220331</td>\n",
       "      <td>2022-03-31 16:22:00.0</td>\n",
       "      <td>0</td>\n",
       "      <td>0</td>\n",
       "      <td>lub-20220327_htm.xml</td>\n",
       "      <td>1</td>\n",
       "      <td></td>\n",
       "      <td>202203</td>\n",
       "    </tr>\n",
       "  </tbody>\n",
       "</table>\n",
       "<p>1 rows × 37 columns</p>\n",
       "</div>"
      ],
      "text/plain": [
       "                   adsh    cik       name   sic countryba stprba   cityba  \\\n",
       "0  0000016099-22-000014  16099  LUBYS INC  5812        US     TX  HOUSTON   \n",
       "\n",
       "   zipba                     bas1       bas2  ... fy fp     filed  \\\n",
       "0  77040  13111 NORTHWEST FREEWAY  SUITE 600  ...        20220331   \n",
       "\n",
       "                accepted prevrpt detail              instance nciks aciks  \\\n",
       "0  2022-03-31 16:22:00.0       0      0  lub-20220327_htm.xml     1         \n",
       "\n",
       "    Month  \n",
       "0  202203  \n",
       "\n",
       "[1 rows x 37 columns]"
      ]
     },
     "execution_count": 6,
     "metadata": {},
     "output_type": "execute_result"
    }
   ],
   "source": [
    "filings.head(1)"
   ]
  },
  {
   "cell_type": "markdown",
   "metadata": {},
   "source": [
    "### Group Filings By Month Column and Compute Group Sizes"
   ]
  },
  {
   "cell_type": "code",
   "execution_count": 7,
   "metadata": {},
   "outputs": [
    {
     "data": {
      "text/html": [
       "<div>\n",
       "<style scoped>\n",
       "    .dataframe tbody tr th:only-of-type {\n",
       "        vertical-align: middle;\n",
       "    }\n",
       "\n",
       "    .dataframe tbody tr th {\n",
       "        vertical-align: top;\n",
       "    }\n",
       "\n",
       "    .dataframe thead th {\n",
       "        text-align: right;\n",
       "    }\n",
       "</style>\n",
       "<table border=\"1\" class=\"dataframe\">\n",
       "  <thead>\n",
       "    <tr style=\"text-align: right;\">\n",
       "      <th></th>\n",
       "      <th>Month</th>\n",
       "      <th>Num. of Filings</th>\n",
       "    </tr>\n",
       "  </thead>\n",
       "  <tbody>\n",
       "    <tr>\n",
       "      <th>0</th>\n",
       "      <td>202201</td>\n",
       "      <td>5323</td>\n",
       "    </tr>\n",
       "    <tr>\n",
       "      <th>1</th>\n",
       "      <td>202202</td>\n",
       "      <td>8593</td>\n",
       "    </tr>\n",
       "    <tr>\n",
       "      <th>2</th>\n",
       "      <td>202203</td>\n",
       "      <td>9741</td>\n",
       "    </tr>\n",
       "    <tr>\n",
       "      <th>3</th>\n",
       "      <td>202204</td>\n",
       "      <td>7204</td>\n",
       "    </tr>\n",
       "    <tr>\n",
       "      <th>4</th>\n",
       "      <td>202205</td>\n",
       "      <td>13959</td>\n",
       "    </tr>\n",
       "    <tr>\n",
       "      <th>5</th>\n",
       "      <td>202206</td>\n",
       "      <td>6099</td>\n",
       "    </tr>\n",
       "    <tr>\n",
       "      <th>6</th>\n",
       "      <td>202207</td>\n",
       "      <td>5525</td>\n",
       "    </tr>\n",
       "    <tr>\n",
       "      <th>7</th>\n",
       "      <td>202208</td>\n",
       "      <td>12563</td>\n",
       "    </tr>\n",
       "    <tr>\n",
       "      <th>8</th>\n",
       "      <td>202209</td>\n",
       "      <td>4863</td>\n",
       "    </tr>\n",
       "    <tr>\n",
       "      <th>9</th>\n",
       "      <td>202210</td>\n",
       "      <td>5902</td>\n",
       "    </tr>\n",
       "    <tr>\n",
       "      <th>10</th>\n",
       "      <td>202211</td>\n",
       "      <td>12555</td>\n",
       "    </tr>\n",
       "    <tr>\n",
       "      <th>11</th>\n",
       "      <td>202212</td>\n",
       "      <td>5486</td>\n",
       "    </tr>\n",
       "  </tbody>\n",
       "</table>\n",
       "</div>"
      ],
      "text/plain": [
       "     Month  Num. of Filings\n",
       "0   202201             5323\n",
       "1   202202             8593\n",
       "2   202203             9741\n",
       "3   202204             7204\n",
       "4   202205            13959\n",
       "5   202206             6099\n",
       "6   202207             5525\n",
       "7   202208            12563\n",
       "8   202209             4863\n",
       "9   202210             5902\n",
       "10  202211            12555\n",
       "11  202212             5486"
      ]
     },
     "execution_count": 7,
     "metadata": {},
     "output_type": "execute_result"
    }
   ],
   "source": [
    "filingsGroupedByMonth = filings.groupby('Month').size().reset_index(name='Num. of Filings')\n",
    "filingsGroupedByMonth"
   ]
  },
  {
   "cell_type": "markdown",
   "metadata": {},
   "source": [
    "### Generate Descriptive Statistics of filingsGroupedByMonth DataFrame"
   ]
  },
  {
   "cell_type": "code",
   "execution_count": 8,
   "metadata": {},
   "outputs": [
    {
     "data": {
      "text/html": [
       "<div>\n",
       "<style scoped>\n",
       "    .dataframe tbody tr th:only-of-type {\n",
       "        vertical-align: middle;\n",
       "    }\n",
       "\n",
       "    .dataframe tbody tr th {\n",
       "        vertical-align: top;\n",
       "    }\n",
       "\n",
       "    .dataframe thead th {\n",
       "        text-align: right;\n",
       "    }\n",
       "</style>\n",
       "<table border=\"1\" class=\"dataframe\">\n",
       "  <thead>\n",
       "    <tr style=\"text-align: right;\">\n",
       "      <th></th>\n",
       "      <th>count</th>\n",
       "      <th>mean</th>\n",
       "      <th>std</th>\n",
       "      <th>min</th>\n",
       "      <th>25%</th>\n",
       "      <th>50%</th>\n",
       "      <th>75%</th>\n",
       "      <th>max</th>\n",
       "    </tr>\n",
       "  </thead>\n",
       "  <tbody>\n",
       "    <tr>\n",
       "      <th>Month</th>\n",
       "      <td>12</td>\n",
       "      <td>202206</td>\n",
       "      <td>4</td>\n",
       "      <td>202201</td>\n",
       "      <td>202204</td>\n",
       "      <td>202206</td>\n",
       "      <td>202209</td>\n",
       "      <td>202212</td>\n",
       "    </tr>\n",
       "    <tr>\n",
       "      <th>Num. of Filings</th>\n",
       "      <td>12</td>\n",
       "      <td>8151</td>\n",
       "      <td>3279</td>\n",
       "      <td>4863</td>\n",
       "      <td>5515</td>\n",
       "      <td>6652</td>\n",
       "      <td>10444</td>\n",
       "      <td>13959</td>\n",
       "    </tr>\n",
       "  </tbody>\n",
       "</table>\n",
       "</div>"
      ],
      "text/plain": [
       "                 count   mean  std    min    25%    50%    75%    max\n",
       "Month               12 202206    4 202201 202204 202206 202209 202212\n",
       "Num. of Filings     12   8151 3279   4863   5515   6652  10444  13959"
      ]
     },
     "execution_count": 8,
     "metadata": {},
     "output_type": "execute_result"
    }
   ],
   "source": [
    "filingsGroupedByMonth.describe().transpose()"
   ]
  },
  {
   "cell_type": "markdown",
   "metadata": {},
   "source": [
    "### Visualize Monthly Statistics using Matplotlib Library"
   ]
  },
  {
   "cell_type": "code",
   "execution_count": 9,
   "metadata": {},
   "outputs": [
    {
     "data": {
      "image/png": "[encoded data removed]",
      "text/plain": [
       "<Figure size 1400x600 with 1 Axes>"
      ]
     },
     "metadata": {},
     "output_type": "display_data"
    }
   ],
   "source": [
    "# Create a bar chart with month on x axis and number of filings on y axis\n",
    "filingsGroupedByMonth.plot(x='Month', y='Num. of Filings', kind='bar', figsize=(14,6))\n",
    "# Set title and labels for x & y axes\n",
    "plt.title('Monthly Structured Data Filing Statistics for 2022',fontsize=20)\n",
    "plt.xlabel('Month', fontsize=15)\n",
    "plt.ylabel('Number of Filings', fontsize=15)\n",
    "plt.yticks(np.arange(0, 15001, step=1000))\n",
    "plt.xticks(rotation=45)\n",
    "# Save the bar chart as a file in images folder\n",
    "plt.savefig('images/MonthlyStats2022.jpg')\n",
    "plt.show()"
   ]
  }
 ],
 "metadata": {
  "kernelspec": {
   "display_name": "Python 3 (ipykernel)",
   "language": "python",
   "name": "python3"
  },
  "language_info": {
   "codemirror_mode": {
    "name": "ipython",
    "version": 3
   },
   "file_extension": ".py",
   "mimetype": "text/x-python",
   "name": "python",
   "nbconvert_exporter": "python",
   "pygments_lexer": "ipython3",
   "version": "3.11.5"
  }
 },
 "nbformat": 4,
 "nbformat_minor": 4
}
