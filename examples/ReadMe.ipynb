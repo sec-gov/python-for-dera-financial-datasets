{
 "cells": [
  {
   "cell_type": "markdown",
   "id": "81f5e256",
   "metadata": {},
   "source": [
    "# Python Code Examples for Accessing and Analyzing SEC's XBRL Data Sets\n",
    "\n",
    "This repository contains Python code examples to demonstrate how to read data from SEC's Financial Statement and Notes Data Sets using the Pandas package https://pypi.org/project/pandas. These examples help Python programmers understand different ways to access, analyze and visualize data from SEC's Data Sets.\n",
    "\n",
    "The code examples use the following two SEC's Data Sets. \n",
    "\n",
    "1. [Financial Statement Data Sets](https://www.sec.gov/dera/data/financial-statement-data-sets)\n",
    "2. [Financial Statement and Notes Data Sets](https://www.sec.gov/dera/data/financial-statement-and-notes-data-set)"
   ]
  },
  {
   "cell_type": "markdown",
   "id": "57d650a1",
   "metadata": {},
   "source": [
    "### Table of Contents\n",
    " - Getting Started\n",
    " - Requirements\n",
    " - Examples\n",
    " - Installation\n",
    " - Usage"
   ]
  },
  {
   "cell_type": "markdown",
   "id": "54642a77",
   "metadata": {},
   "source": [
    "### Getting Started\n",
    "\n",
    "To get started with these examples, you need to have Python installed on your system. The examples use Python 3.x, so make sure you have the appropriate version installed. In addition to Python, you will need Jupyter https://jupyter.org to run the examples. \n",
    "\n",
    "The free edition of the Anaconda distribution of Python available from https://www.anaconda.com/download comes bundled with Jupyter notebooks along with open-source python packages for data exploration and visualization.  "
   ]
  },
  {
   "cell_type": "markdown",
   "id": "2dfafa24",
   "metadata": {},
   "source": [
    "### Requirements\n",
    "\n",
    "- Python 3.x\n",
    "- Jupyter notebook\n",
    "- pandas\n",
    "- numpy\n",
    "- matplotlib\n",
    "- seaborn\n",
    "- IPython\n",
    "- io\n",
    "- requests\n",
    "- zipfile"
   ]
  },
  {
   "cell_type": "markdown",
   "id": "207f45ff",
   "metadata": {},
   "source": [
    "### Examples\n",
    "\n",
    "| Example | Description |\n",
    "| :-- | :-- |\n",
    "| **1_Read_And_Analyze_Submissions.ipynb** | This example reads submissions for one calendar quarter from Financial Statement Data Sets into a Pandas data frame. You will find code for generating descriptive statistics, filtering data by numeric and/or text matching criteria, grouping data and computing group sizes. The visualizations use the pyplot library.  |\n",
    "| **2_Read_Multiple_Data_Sets.ipynb** | This example reads submissions for four calendar quarters from Financial Statement Data Sets. You will find code for concatenating four quarters of data into a single data frame, constructing a new column in data frame and visualizing the data using the new column. |\n",
    "| **3_Find_Numeric_Facts.ipynb** | This example joins submissions with numeric data sets to search for numeric facts for some companies and create a visual comparison across companies. |\n",
    "| **4_Find_Dimensional_Facts.ipynb** | This example joins submissions, numeric and dimensions data sets to search for dimensional facts. |\n",
    "| **5_Find_Narrative_Text_Facts.ipynb** | This example joins submissions and text data sets to search for narrative facts and create an Excel download file for search results.|\n",
    "| **6_Find_Custom_Facts.ipynb** |  This example joins submissions, numeric and tags data sets to search for custom facts. |"
   ]
  },
  {
   "cell_type": "markdown",
   "id": "79749d9e",
   "metadata": {},
   "source": [
    "### Installation\n",
    "\n",
    "To run these examples, you need to install the required Python libraries. You can install them using pip:\n",
    "\n",
    "---\n",
    "`pip install pandas numpy matplotlib seaborn IPython`\n",
    "\n",
    "OR \n",
    "\n",
    "`pip install -r requirements.txt`"
   ]
  },
  {
   "cell_type": "markdown",
   "id": "2f557ce4",
   "metadata": {},
   "source": [
    "### Usage\n",
    "\n",
    "1. Clone this repository:\\\n",
    "`git clone https://github.com/sec-gov/python-for-dera-financial-datasets`<br><br>\n",
    "  \n",
    "2. Data for examples can be downloaded by running the Populate_Data.py script.\\\n",
    "`cd python-for-dera-financial-datasets`\\\n",
    "`python Populate_Data.py`  \n",
    "  \n",
    "   Alternatively, data can be downloaded manually from the DERA Data Library.\\\n",
    "   `cd python-for-dera-financial-datasets\\examples`\\\n",
    "   Create a new subfolder named data\\\n",
    "   Download the zip files for data sets in data folder from the following URLs and unzip them.\n",
    "\n",
    "- https://www.sec.gov/files/dera/data/financial-statement-data-sets/2022q1.zip\n",
    "- https://www.sec.gov/files/dera/data/financial-statement-data-sets/2022q2.zip\n",
    "- https://www.sec.gov/files/dera/data/financial-statement-data-sets/2022q3.zip\n",
    "- https://www.sec.gov/files/dera/data/financial-statement-data-sets/2022q4.zip\n",
    "- https://www.sec.gov/files/dera/data/financial-statement-notes-data-sets/2024_02_notes.zip<br><br>\n",
    "3. Juptyer notebooks are in the examples folder. These notebooks have been saved with output so that you know what to expect after running the code. To run the examples, open Jupyter notebook from command prompt or shell:\\\n",
    "`jupyter notebook`<br><br>\n",
    "\n",
    "4. From the examples webpage in Jupyter, you can select a specific example of interest to run.\n"
   ]
  },
  {
   "cell_type": "markdown",
   "id": "7d74a3e6",
   "metadata": {},
   "source": [
    "**Suggestions directed to StructuredData@sec.gov regarding code examples are welcome.**"
   ]
  }
 ],
 "metadata": {
  "kernelspec": {
   "display_name": "Python 3 (ipykernel)",
   "language": "python",
   "name": "python3"
  },
  "language_info": {
   "codemirror_mode": {
    "name": "ipython",
    "version": 3
   },
   "file_extension": ".py",
   "mimetype": "text/x-python",
   "name": "python",
   "nbconvert_exporter": "python",
   "pygments_lexer": "ipython3",
   "version": "3.11.5"
  }
 },
 "nbformat": 4,
 "nbformat_minor": 5
}
